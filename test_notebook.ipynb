{
 "cells": [
  {
   "cell_type": "code",
   "execution_count": 14,
   "metadata": {},
   "outputs": [],
   "source": [
    "import wavecalc as wc\n",
    "import numpy as np\n",
    "from math import pi\n",
    "import matplotlib.pyplot as pl\n",
    "import os"
   ]
  },
  {
   "cell_type": "code",
   "execution_count": 2,
   "metadata": {},
   "outputs": [],
   "source": [
    "import matplotlib.pyplot as pl"
   ]
  },
  {
   "cell_type": "code",
   "execution_count": 15,
   "metadata": {},
   "outputs": [
    {
     "data": {
      "text/plain": [
       "'/Users/ryan/git/wavecalc'"
      ]
     },
     "execution_count": 15,
     "metadata": {},
     "output_type": "execute_result"
    }
   ],
   "source": [
    "pwd"
   ]
  },
  {
   "cell_type": "code",
   "execution_count": 5,
   "metadata": {},
   "outputs": [],
   "source": [
    "a=wc.composites.prism(wc.materials.ktp(),90)"
   ]
  },
  {
   "cell_type": "code",
   "execution_count": 6,
   "metadata": {},
   "outputs": [
    {
     "data": {
      "text/plain": [
       "array([[ 0.        ],\n",
       "       [-0.70710678],\n",
       "       [ 0.70710678]])"
      ]
     },
     "execution_count": 6,
     "metadata": {},
     "output_type": "execute_result"
    }
   ],
   "source": [
    "a.norm1"
   ]
  },
  {
   "cell_type": "code",
   "execution_count": 7,
   "metadata": {},
   "outputs": [
    {
     "data": {
      "text/plain": [
       "array([[0.        ],\n",
       "       [0.70710678],\n",
       "       [0.70710678]])"
      ]
     },
     "execution_count": 7,
     "metadata": {},
     "output_type": "execute_result"
    }
   ],
   "source": [
    "a.norm2"
   ]
  },
  {
   "cell_type": "code",
   "execution_count": 9,
   "metadata": {},
   "outputs": [
    {
     "data": {
      "text/plain": [
       "array([[3.02038842, 0.        , 0.        ],\n",
       "       [0.        , 3.04665855, 0.        ],\n",
       "       [0.        , 0.        , 3.34768855]])"
      ]
     },
     "execution_count": 9,
     "metadata": {},
     "output_type": "execute_result"
    }
   ],
   "source": [
    "a.material"
   ]
  },
  {
   "cell_type": "code",
   "execution_count": null,
   "metadata": {},
   "outputs": [],
   "source": []
  },
  {
   "cell_type": "code",
   "execution_count": 7,
   "metadata": {},
   "outputs": [
    {
     "data": {
      "text/plain": [
       "1.7399079502434365"
      ]
     },
     "execution_count": 7,
     "metadata": {},
     "output_type": "execute_result"
    }
   ],
   "source": [
    "np.sqrt(3.0065 + 0.03901 / ( 1.064**2 - 0.04251) - 0.01327*1.064**2)"
   ]
  },
  {
   "cell_type": "code",
   "execution_count": 8,
   "metadata": {},
   "outputs": [
    {
     "data": {
      "text/plain": [
       "1.7480241739802462"
      ]
     },
     "execution_count": 8,
     "metadata": {},
     "output_type": "execute_result"
    }
   ],
   "source": [
    "np.sqrt(3.0333 + 0.04154 / ( 1.064**2 - 0.04547) - 0.01408*1.064**2)"
   ]
  },
  {
   "cell_type": "code",
   "execution_count": 9,
   "metadata": {},
   "outputs": [
    {
     "data": {
      "text/plain": [
       "1.7379264717305054"
      ]
     },
     "execution_count": 9,
     "metadata": {},
     "output_type": "execute_result"
    }
   ],
   "source": [
    "a= 3.29100+ (0.04140/(1.064**2-0.03978))+(9.35522/(1.064**2-31.45571))\n",
    "np.sqrt(a)"
   ]
  },
  {
   "cell_type": "code",
   "execution_count": 10,
   "metadata": {},
   "outputs": [
    {
     "data": {
      "text/plain": [
       "1.7454680019979687"
      ]
     },
     "execution_count": 10,
     "metadata": {},
     "output_type": "execute_result"
    }
   ],
   "source": [
    "b=  3.45018 + (0.04341/(1.064**2-0.04597))+(16.98825/(1.064**2-39.43799))\n",
    "np.sqrt(b) "
   ]
  },
  {
   "cell_type": "code",
   "execution_count": 3,
   "metadata": {},
   "outputs": [
    {
     "data": {
      "text/plain": [
       "array([[3.02038842, 0.        , 0.        ],\n",
       "       [0.        , 3.04665855, 0.        ],\n",
       "       [0.        , 0.        , 3.34768855]])"
      ]
     },
     "execution_count": 3,
     "metadata": {},
     "output_type": "execute_result"
    }
   ],
   "source": [
    "ktp = wc.materials.ktp()\n",
    "ktp.epsilon"
   ]
  },
  {
   "cell_type": "code",
   "execution_count": 4,
   "metadata": {},
   "outputs": [
    {
     "data": {
      "text/plain": [
       "array([[1.73792647, 0.        , 0.        ],\n",
       "       [0.        , 1.745468  , 0.        ],\n",
       "       [0.        , 0.        , 1.82966897]])"
      ]
     },
     "execution_count": 4,
     "metadata": {},
     "output_type": "execute_result"
    }
   ],
   "source": [
    "np.sqrt(ktp.epsilon)"
   ]
  },
  {
   "cell_type": "code",
   "execution_count": 5,
   "metadata": {},
   "outputs": [],
   "source": [
    "a = None\n",
    "b =a "
   ]
  },
  {
   "cell_type": "code",
   "execution_count": 6,
   "metadata": {},
   "outputs": [],
   "source": [
    "b"
   ]
  },
  {
   "cell_type": "code",
   "execution_count": 23,
   "metadata": {},
   "outputs": [
    {
     "data": {
      "image/png": "[encoded data removed]",
      "text/plain": [
       "<Figure size 432x288 with 1 Axes>"
      ]
     },
     "metadata": {
      "needs_background": "light"
     },
     "output_type": "display_data"
    }
   ],
   "source": [
    "wav_s = wc.obj.wave(pol='x')\n",
    "wav_p = wc.obj.wave(pol='y')\n",
    "surf = wc.obj.surface()\n",
    "med = wc.obj.medium(ep_all=2.25)\n",
    "surf = surf + med\n",
    "\n",
    "thetas = np.linspace(0,89,90)\n",
    "\n",
    "Refls_s = []\n",
    "Refls_p = []\n",
    "\n",
    "for t in thetas:\n",
    "\n",
    "    wav_s.rotate(t,'x')\n",
    "    wav_p.rotate(t,'x')\n",
    "    \n",
    "    #out_s = wc.fun.crash(wav_s,surf)\n",
    "    #out_p = wc.fun.crash(wav_p,surf)\n",
    "    \n",
    "    out_s = wav_s@surf\n",
    "    out_p = wav_p@surf\n",
    "    \n",
    "    #print(t,len(out_s),len(out_p))\n",
    "    \n",
    "    out_s = out_s[0]\n",
    "    out_p = out_p[0]\n",
    "    \n",
    "    refl_s = out_s.amp()\n",
    "    refl_p = out_p.amp()\n",
    "    \n",
    "    Refls_s.append(refl_s)\n",
    "    Refls_p.append(refl_p)\n",
    "    \n",
    "    wav_s.rotate(-t,'x')\n",
    "    wav_p.rotate(-t,'x')\n",
    "    \n",
    "Refls_s = np.asarray(Refls_s)\n",
    "Refls_p = np.asarray(Refls_p)\n",
    "    \n",
    "pl.plot(thetas,Refls_s,label='s-pol')\n",
    "pl.plot(thetas,Refls_p,label='p-pol')\n",
    "pl.title(\"n_in = 1, n_out = 1.5\",fontsize=14)\n",
    "pl.xlabel(\"Angle of Incidence (deg)\",fontsize=14)\n",
    "pl.ylabel(\"Reflection Coefficient\",fontsize=14)\n",
    "pl.legend(fontsize=12)\n",
    "pl.grid(True)\n",
    "#fig.savefig('test_plots/reflectance_example.png',bbox_inches='tight')\n",
    "pl.show()"
   ]
  },
  {
   "cell_type": "code",
   "execution_count": 7,
   "metadata": {},
   "outputs": [
    {
     "data": {
      "image/png": "[encoded data removed]",
      "text/plain": [
       "<Figure size 432x288 with 1 Axes>"
      ]
     },
     "metadata": {
      "needs_background": "light"
     },
     "output_type": "display_data"
    }
   ],
   "source": [
    "pl.plot(thetas,Refls_s,label='s-pol')\n",
    "pl.plot(thetas,Refls_p,label='p-pol')\n",
    "pl.title(\"n = 1.5\",fontsize=14)\n",
    "pl.xlabel(\"Angle of Incidence (deg)\",fontsize=14)\n",
    "pl.ylabel(\"Reflection Coefficient\",fontsize=14)\n",
    "pl.legend(fontsize=12)\n",
    "pl.show()"
   ]
  },
  {
   "cell_type": "code",
   "execution_count": 26,
   "metadata": {},
   "outputs": [
    {
     "data": {
      "image/png": "[encoded data removed]",
      "text/plain": [
       "<Figure size 432x288 with 1 Axes>"
      ]
     },
     "metadata": {
      "needs_background": "light"
     },
     "output_type": "display_data"
    }
   ],
   "source": [
    "wav_s = wc.obj.wave(pol='x')\n",
    "wav_p = wc.obj.wave(pol='y')\n",
    "surf = wc.obj.surface()\n",
    "med = wc.obj.medium(ep_all=2.25)\n",
    "surf = med + surf\n",
    "wav_s = wav_s + med\n",
    "wav_p = wav_p + med\n",
    "wav_s.fixmode()\n",
    "wav_p.fixmode()\n",
    "\n",
    "thetas = np.linspace(0,89,90)\n",
    "\n",
    "Refls_s = []\n",
    "Refls_p = []\n",
    "\n",
    "for t in thetas:\n",
    "\n",
    "    wav_s.rotate(t,'x')\n",
    "    wav_p.rotate(t,'x')\n",
    "    \n",
    "    #out_s = wc.fun.crash(wav_s,surf)\n",
    "    #out_p = wc.fun.crash(wav_p,surf)\n",
    "    \n",
    "    out_s = wav_s@surf\n",
    "    out_p = wav_p@surf\n",
    "    \n",
    "    #print(t,len(out_s),len(out_p))\n",
    "    \n",
    "    out_s = out_s[0]\n",
    "    out_p = out_p[0]\n",
    "    \n",
    "    refl_s = out_s.amp()\n",
    "    refl_p = out_p.amp()\n",
    "    \n",
    "    Refls_s.append(refl_s)\n",
    "    Refls_p.append(refl_p)\n",
    "    \n",
    "    wav_s.rotate(-t,'x')\n",
    "    wav_p.rotate(-t,'x')\n",
    "    \n",
    "Refls_s = np.asarray(Refls_s)\n",
    "Refls_p = np.asarray(Refls_p)\n",
    "    \n",
    "fig = pl.figure()\n",
    "pl.plot(thetas,Refls_s,label='s-pol')\n",
    "pl.plot(thetas,Refls_p,label='p-pol')\n",
    "pl.title(\"n_in = 1.5, n_out = 1\",fontsize=14)\n",
    "pl.xlabel(\"Angle of Incidence (deg)\",fontsize=14)\n",
    "pl.ylabel(\"Reflection Coefficient\",fontsize=14)\n",
    "pl.legend(fontsize=12)\n",
    "#pl.grid(True)\n",
    "pl.show()\n",
    "#fig.savefig('test_plots/total_internal_reflection_example.png',bbox_inches='tight')"
   ]
  },
  {
   "cell_type": "code",
   "execution_count": 12,
   "metadata": {},
   "outputs": [
    {
     "data": {
      "text/plain": [
       "41.810314895778596"
      ]
     },
     "execution_count": 12,
     "metadata": {},
     "output_type": "execute_result"
    }
   ],
   "source": [
    "(180/pi)*np.arcsin(1/1.5)"
   ]
  },
  {
   "cell_type": "code",
   "execution_count": 13,
   "metadata": {},
   "outputs": [
    {
     "name": "stdout",
     "output_type": "stream",
     "text": [
      "Assuming k0 = 1\n",
      "x' = [[ 0. -1.  0.]]\n",
      "y' = [[ 1.  0. -0.]]\n",
      "z' = [[0. 0. 1.]]\n",
      "k_hat . s_hat =  0.05233595624294397\n",
      "U =  [[ 0.  1.  0.]\n",
      " [-1.  0.  0.]\n",
      " [ 0. -0.  1.]]\n",
      "Uinv =  [[-0. -1. -0.]\n",
      " [ 1.  0.  0.]\n",
      " [ 0.  0.  1.]]\n",
      "DELTA_r = 0.0\n",
      "SIGMA_r = (-0.005478104631726932+0j)\n",
      "PSI_r = 0j\n",
      "GAMMA_r = (7.502407589177196e-06+0j)\n",
      "DELTA_t = 0.0\n",
      "SIGMA_t = (-5.637325735421386+0j)\n",
      "PSI_t = 0j\n",
      "GAMMA_t = (3.5310490496938076+0j)\n",
      "Quartic roots are approximated as:  [(-0.052335956243535625+1.1311690577260623e-07j), (-0.05233595624259915-1.1311690577709927e-07j), (1.119258259880485-2.8721408321569124e-08j), (1.1192582598851066+2.8721408584786445e-08j)]\n",
      "k_alpha =  [[ 0.        +0.00000000e+00j -0.99862953+0.00000000e+00j\n",
      "  -0.05233596-1.13116906e-07j]]\n",
      "k_ beta =  [[ 0.        +0.00000000e+00j -0.99862953+0.00000000e+00j\n",
      "  -0.05233596+1.13116906e-07j]]\n",
      "k_gamma =  [[ 0.        +0.00000000e+00j -0.99862953+0.00000000e+00j\n",
      "   1.11925826-2.87214083e-08j]]\n",
      "k_ nu =  [[ 0.        +0.00000000e+00j -0.99862953+0.00000000e+00j\n",
      "   1.11925826+2.87214086e-08j]]\n",
      "eigenvalue should be: 0.999999999999951\n",
      "eigenvalues approximated as: [2. 1. 1.]\n",
      "over*under =  [0. 1. 1.]\n",
      "eigenvalue should be: 1.0000000000000488\n",
      "eigenvalues approximated as: [2. 1. 1.]\n",
      "over*under =  [0. 1. 1.]\n",
      "eigenvalue should be: 2.2499999999948272\n",
      "eigenvalues approximated as: [2.25 4.5  2.25]\n",
      "over*under =  [1. 0. 1.]\n",
      "eigenvalue should be: 2.2500000000051728\n",
      "eigenvalues approximated as: [2.25 4.5  2.25]\n",
      "over*under =  [1. 0. 1.]\n",
      "alpha eigenvector:  [[ 0.        +0.00000000e+00j -0.05233596-1.13116906e-07j\n",
      "   0.99862953+0.00000000e+00j]]\n",
      "beta eigenvector:  [[1.+0.j 0.+0.j 0.+0.j]]\n",
      "gamma eigenvector:  [[ 0.        +0.0000000e+00j -0.74617217+0.0000000e+00j\n",
      "  -0.66575302-1.7083961e-08j]]\n",
      "nu eigenvector:  [[1.+0.j 0.+0.j 0.+0.j]]\n",
      "R_alpha =  (-0+0j)\n",
      "R_beta =  (-0.9106585616030439-9.011387151473244e-08j)\n",
      "T_gamma =  (-0+0j)\n",
      "T_nu =  (0.08934143839695612-9.011387151473244e-08j)\n",
      "alpha field:  [[-0.  0. -0.]]\n",
      "beta field:  [[-0.91065856-9.01138715e-08j  0.        -0.00000000e+00j\n",
      "   0.        -0.00000000e+00j]]\n",
      "gamma field:  [[-0.  0.  0.]]\n",
      "nu field:  [[0.08934144-9.01138715e-08j 0.        +0.00000000e+00j\n",
      "  0.        +0.00000000e+00j]]\n",
      "alpha-wave (refl) effective index= 0.9999999999999819\n",
      "beta-wave (refl) effective index= 1.0000000000000309\n",
      "gamma-wave (trans) effective index= 1.499999999998276\n",
      "nu-wave (trans) effective index= 1.5000000000017246\n"
     ]
    }
   ],
   "source": [
    "wav_s = wc.obj.wave(pol='x')\n",
    "wav_p = wc.obj.wave(pol='y')\n",
    "surf = wc.obj.surface()\n",
    "med = wc.obj.medium(ep_all=2.25)\n",
    "surf = surf + med\n",
    "\n",
    "thetas = np.linspace(0,89,90)\n",
    "\n",
    "wav_s.rotate(87,'x')\n",
    "wav_p.rotate(87,'x')\n",
    "    \n",
    "out_s = wc.fun.crash(wav_s,surf,verbose=True)[0]\n",
    "out_p = (wav_p @ surf)[0]\n",
    "    \n",
    "refl_s = out_s.amp()\n",
    "refl_p = out_p.amp()"
   ]
  },
  {
   "cell_type": "code",
   "execution_count": 12,
   "metadata": {},
   "outputs": [
    {
     "data": {
      "text/plain": [
       "0.0"
      ]
     },
     "execution_count": 12,
     "metadata": {},
     "output_type": "execute_result"
    }
   ],
   "source": [
    "refl_s"
   ]
  },
  {
   "cell_type": "code",
   "execution_count": 7,
   "metadata": {},
   "outputs": [
    {
     "data": {
      "text/plain": [
       "array([[ 0.        +0.00000000e+00j],\n",
       "       [-0.99862953+0.00000000e+00j],\n",
       "       [-0.05233596-1.13116906e-07j]])"
      ]
     },
     "execution_count": 7,
     "metadata": {},
     "output_type": "execute_result"
    }
   ],
   "source": [
    "out_s.kvec"
   ]
  },
  {
   "cell_type": "code",
   "execution_count": 3,
   "metadata": {},
   "outputs": [
    {
     "name": "stdout",
     "output_type": "stream",
     "text": [
      "Assuming k0 = 1\n",
      "x' = [[1. 0. 0.]]\n",
      "y' = [[0. 1. 0.]]\n",
      "z' = [[0. 0. 1.]]\n",
      "k_hat . s_hat =  1.0\n",
      "U =  [[1. 0. 0.]\n",
      " [0. 1. 0.]\n",
      " [0. 0. 1.]]\n",
      "Uinv =  [[1. 0. 0.]\n",
      " [0. 1. 0.]\n",
      " [0. 0. 1.]]\n",
      "DELTA_r = 0.0\n",
      "SIGMA_r = (-2+0j)\n",
      "PSI_r = 0j\n",
      "GAMMA_r = (1+0j)\n",
      "DELTA_t = 0.0\n",
      "SIGMA_t = (-10.125+0j)\n",
      "PSI_t = 0j\n",
      "GAMMA_t = (11.390625+0j)\n",
      "Quartic roots are approximated as:  [-1.0000000036332495, -0.9999999963667489, 1.4999999572855278, 1.5000000427144764]\n",
      "k_alpha =  [[ 0.  0. -1.]]\n",
      "k_ beta =  [[ 0.  0. -1.]]\n",
      "k_gamma =  [[0.         0.         1.49999996]]\n",
      "k_ nu =  [[0.         0.         1.50000004]]\n",
      "eigenvalue should be: 0.9999999927334977\n",
      "eigenvalues approximated as: [1.         1.         1.99999999]\n",
      "over*under =  [1. 1. 0.]\n",
      "eigenvalue should be: 1.000000007266499\n",
      "eigenvalues approximated as: [1.         1.         2.00000001]\n",
      "over*under =  [1. 1. 0.]\n",
      "eigenvalue should be: 2.2499998718565855\n",
      "eigenvalues approximated as: [2.25       2.25       4.49999987]\n",
      "over*under =  [1. 1. 0.]\n",
      "eigenvalue should be: 2.250000128143431\n",
      "eigenvalues approximated as: [2.25       2.25       4.50000013]\n",
      "over*under =  [1. 1. 0.]\n",
      "alpha eigenvector:  [[1. 0. 0.]]\n",
      "beta eigenvector:  [[0. 1. 0.]]\n",
      "gamma eigenvector:  [[1. 0. 0.]]\n",
      "nu eigenvector:  [[0. 1. 0.]]\n",
      "R_alpha =  (-0.19999998662202867+0j)\n",
      "R_beta =  -0j\n",
      "T_gamma =  (0.8000000133779713+0j)\n",
      "T_nu =  -0j\n",
      "alpha field:  [[-0.19999999 -0.         -0.        ]]\n",
      "beta field:  [[0. 0. 0.]]\n",
      "gamma field:  [[0.80000001 0.         0.        ]]\n",
      "nu field:  [[0. 0. 0.]]\n",
      "alpha-wave (refl) effective index= 0.9999999963667489\n",
      "beta-wave (refl) effective index= 1.0000000036332495\n",
      "gamma-wave (trans) effective index= 1.4999999572855278\n",
      "nu-wave (trans) effective index= 1.5000000427144764\n"
     ]
    },
    {
     "name": "stderr",
     "output_type": "stream",
     "text": [
      "/anaconda3/lib/python3.7/site-packages/numpy/core/numeric.py:538: ComplexWarning: Casting complex values to real discards the imaginary part\n",
      "  return array(a, dtype, copy=False, order=order)\n"
     ]
    }
   ],
   "source": [
    "wav_s = wc.obj.wave(pol='x')\n",
    "wav_p = wc.obj.wave(pol='y')\n",
    "surf = wc.obj.surface()\n",
    "med = wc.obj.medium(ep_all=2.25)\n",
    "surf = surf + med\n",
    "\n",
    "\n",
    "wav_s.rotate(0.,'x')\n",
    "wav_p.rotate(0.,'x')\n",
    "    \n",
    "out_s = wc.fun.crash(wav_s,surf,verbose=True)\n",
    "out_p = wc.fun.crash(wav_p,surf)"
   ]
  },
  {
   "cell_type": "code",
   "execution_count": 4,
   "metadata": {},
   "outputs": [
    {
     "data": {
      "text/plain": [
       "array([[0.-0.j],\n",
       "       [0.-0.j],\n",
       "       [0.-0.j]])"
      ]
     },
     "execution_count": 4,
     "metadata": {},
     "output_type": "execute_result"
    }
   ],
   "source": [
    "-0.j*np.array([[0.,1.,0.]]).T"
   ]
  },
  {
   "cell_type": "code",
   "execution_count": 7,
   "metadata": {},
   "outputs": [
    {
     "name": "stderr",
     "output_type": "stream",
     "text": [
      "/anaconda3/lib/python3.7/site-packages/numpy/core/numeric.py:538: ComplexWarning: Casting complex values to real discards the imaginary part\n",
      "  return array(a, dtype, copy=False, order=order)\n"
     ]
    },
    {
     "data": {
      "text/plain": [
       "array([[0.],\n",
       "       [0.],\n",
       "       [0.]])"
      ]
     },
     "execution_count": 7,
     "metadata": {},
     "output_type": "execute_result"
    }
   ],
   "source": [
    "a = -0.j*np.array([[0.,1.,0.]]).T\n",
    "really = np.isreal(a).all()\n",
    "if really:\n",
    "    a = np.asarray(a,dtype=float)\n",
    "        \n",
    "a"
   ]
  },
  {
   "cell_type": "code",
   "execution_count": 5,
   "metadata": {},
   "outputs": [
    {
     "data": {
      "text/plain": [
       "array([[0.],\n",
       "       [1.],\n",
       "       [0.]])"
      ]
     },
     "execution_count": 5,
     "metadata": {},
     "output_type": "execute_result"
    }
   ],
   "source": [
    "wav_p.efield"
   ]
  },
  {
   "cell_type": "code",
   "execution_count": 6,
   "metadata": {},
   "outputs": [
    {
     "data": {
      "text/plain": [
       "(array([[ 0.],\n",
       "        [ 0.],\n",
       "        [-1.]]), array([[ 0.],\n",
       "        [ 0.],\n",
       "        [-1.]]))"
      ]
     },
     "execution_count": 6,
     "metadata": {},
     "output_type": "execute_result"
    }
   ],
   "source": [
    "out_s[0].kvec, out_s[1].kvec"
   ]
  },
  {
   "cell_type": "code",
   "execution_count": 7,
   "metadata": {},
   "outputs": [
    {
     "data": {
      "text/plain": [
       "(array([[ 0.],\n",
       "        [ 0.],\n",
       "        [-1.]]), array([[ 0.],\n",
       "        [ 0.],\n",
       "        [-1.]]))"
      ]
     },
     "execution_count": 7,
     "metadata": {},
     "output_type": "execute_result"
    }
   ],
   "source": [
    "out_s[0].efield, out_s[1].efield"
   ]
  },
  {
   "cell_type": "code",
   "execution_count": 29,
   "metadata": {},
   "outputs": [
    {
     "data": {
      "text/plain": [
       "array([[ 0.],\n",
       "       [ 0.],\n",
       "       [-1.]])"
      ]
     },
     "execution_count": 29,
     "metadata": {},
     "output_type": "execute_result"
    }
   ],
   "source": [
    "out_s.efield"
   ]
  },
  {
   "cell_type": "code",
   "execution_count": 27,
   "metadata": {},
   "outputs": [
    {
     "data": {
      "text/plain": [
       "array([[ 0.],\n",
       "       [ 0.],\n",
       "       [-1.]])"
      ]
     },
     "execution_count": 27,
     "metadata": {},
     "output_type": "execute_result"
    }
   ],
   "source": [
    "out_p.pol()"
   ]
  },
  {
   "cell_type": "code",
   "execution_count": 28,
   "metadata": {},
   "outputs": [
    {
     "data": {
      "text/plain": [
       "array([[ 0.],\n",
       "       [ 0.],\n",
       "       [-1.]])"
      ]
     },
     "execution_count": 28,
     "metadata": {},
     "output_type": "execute_result"
    }
   ],
   "source": [
    "out_p.efield"
   ]
  },
  {
   "cell_type": "code",
   "execution_count": 13,
   "metadata": {},
   "outputs": [
    {
     "data": {
      "text/plain": [
       "0.0402608238010001"
      ]
     },
     "execution_count": 13,
     "metadata": {},
     "output_type": "execute_result"
    }
   ],
   "source": [
    "out_s.amp()**2"
   ]
  },
  {
   "cell_type": "code",
   "execution_count": 5,
   "metadata": {},
   "outputs": [
    {
     "data": {
      "text/plain": [
       "[4.0,\n",
       " 0.039983747548440994,\n",
       " 0.03993500869921131,\n",
       " 0.0398537465768352,\n",
       " 0.0397399534892254,\n",
       " 0.039593587298373006,\n",
       " 4.000000034118326,\n",
       " 0.039202963414607696,\n",
       " 0.0389586049915816,\n",
       " 0.0386814717975707,\n",
       " 0.03837147985569601,\n",
       " 0.03802857522194,\n",
       " 0.03765268712573,\n",
       " 3.999999993856827,\n",
       " 4.000000037423371,\n",
       " 0.0363264523891491,\n",
       " 3.999999963557702,\n",
       " 3.999999981586,\n",
       " 0.034701281177023494,\n",
       " 0.034093015277988505,\n",
       " 3.9999999849923356,\n",
       " 0.03277685540681371,\n",
       " 0.03206912291601299,\n",
       " 0.03132847695096889,\n",
       " 0.030555118632678093,\n",
       " 0.029749331621455398,\n",
       " 4.000000001919139,\n",
       " 0.028041899851458,\n",
       " 4.000000004660471,\n",
       " 0.026210047798779897,\n",
       " 0.025249145488797604,\n",
       " 0.024259439416062498,\n",
       " 0.0232420015907291,\n",
       " 0.0221981090918534,\n",
       " 0.021129244518161002,\n",
       " 0.020037130966574796,\n",
       " 0.018923770646045,\n",
       " 0.017791473887472504,\n",
       " 0.016642902919156898,\n",
       " 4.000000036001925,\n",
       " 3.999999931074694,\n",
       " 0.013132249773055998,\n",
       " 0.0119537468010724,\n",
       " 0.010779225441199402,\n",
       " 0.009614566577646502,\n",
       " 0.008466458206185802,\n",
       " 0.007342482420846399,\n",
       " 0.006251228285032999,\n",
       " 0.005202414382286902,\n",
       " 0.0042070391686376,\n",
       " 0.003277532014442,\n",
       " 0.00242793104324,\n",
       " 0.0016740914503604004,\n",
       " 0.0010339056251224999,\n",
       " 0.0005275657391408999,\n",
       " 0.00017784722637800002,\n",
       " 3.9999999898953753,\n",
       " 5.4326238776500004e-05,\n",
       " 0.0003421784267129,\n",
       " 0.0009108571097992,\n",
       " 0.0018019379610388002,\n",
       " 0.0030623266865332003,\n",
       " 4.000000058757237,\n",
       " 3.999999971091042,\n",
       " 0.009623641467304,\n",
       " 0.012963379888916002,\n",
       " 0.017014930364964997,\n",
       " 3.999999979298398,\n",
       " 3.9999999858575297,\n",
       " 4.000000027464749,\n",
       " 0.042490393072154096,\n",
       " 0.0518464564529354,\n",
       " 4.000000017372681,\n",
       " 0.07534943734933759,\n",
       " 4.000000029433144,\n",
       " 0.10676509995146011,\n",
       " 0.12613498694133532,\n",
       " 0.1483965620544278,\n",
       " 3.999999984581197,\n",
       " 3.9999999723506496,\n",
       " 0.23681379981336662,\n",
       " 3.999999995247167,\n",
       " 4.000000008900539,\n",
       " 3.9999999836474327,\n",
       " 4.000000042480602,\n",
       " 4.00000001677838,\n",
       " 3.999999998627313,\n",
       " 0.9999999804299605,\n",
       " 4.000000024753355,\n",
       " 1.0000000024801299]"
      ]
     },
     "execution_count": 5,
     "metadata": {},
     "output_type": "execute_result"
    }
   ],
   "source": [
    "Refls_p"
   ]
  },
  {
   "cell_type": "code",
   "execution_count": 4,
   "metadata": {},
   "outputs": [
    {
     "data": {
      "text/plain": [
       "0.2"
      ]
     },
     "execution_count": 4,
     "metadata": {},
     "output_type": "execute_result"
    }
   ],
   "source": [
    ".5/(2.5)"
   ]
  },
  {
   "cell_type": "code",
   "execution_count": 6,
   "metadata": {},
   "outputs": [
    {
     "name": "stdout",
     "output_type": "stream",
     "text": [
      "0.0\n",
      "True\n",
      "1.0\n",
      "True\n",
      "2.0\n",
      "True\n",
      "3.0\n",
      "True\n",
      "4.0\n",
      "True\n",
      "5.0\n",
      "True\n",
      "6.0\n",
      "True\n",
      "7.0\n",
      "True\n",
      "8.0\n",
      "True\n",
      "9.0\n",
      "True\n",
      "10.0\n",
      "True\n"
     ]
    }
   ],
   "source": [
    "thetas = np.linspace(0,10,11)\n",
    "for t in thetas:\n",
    "    print(t)\n",
    "    print(isinstance(t,(int,float)))"
   ]
  },
  {
   "cell_type": "code",
   "execution_count": null,
   "metadata": {},
   "outputs": [],
   "source": []
  },
  {
   "cell_type": "code",
   "execution_count": 45,
   "metadata": {},
   "outputs": [
    {
     "data": {
      "text/plain": [
       "array([[1.00006006e-10]])"
      ]
     },
     "execution_count": 45,
     "metadata": {},
     "output_type": "execute_result"
    }
   ],
   "source": [
    "a = np.array([[1.,0.,0.]]).T\n",
    "b = wc.fun.rotate(a,0.00114595,'y')\n",
    "c =(b - a)\n",
    "d = b+a\n",
    "(c.T @ c)/(d.T @d)"
   ]
  },
  {
   "cell_type": "code",
   "execution_count": 46,
   "metadata": {},
   "outputs": [
    {
     "data": {
      "text/plain": [
       "4.12542"
      ]
     },
     "execution_count": 46,
     "metadata": {},
     "output_type": "execute_result"
    }
   ],
   "source": [
    "0.00114595*60*60"
   ]
  },
  {
   "cell_type": "code",
   "execution_count": 47,
   "metadata": {},
   "outputs": [
    {
     "data": {
      "text/plain": [
       "2.0000600563229018e-05"
      ]
     },
     "execution_count": 47,
     "metadata": {},
     "output_type": "execute_result"
    }
   ],
   "source": [
    "0.00114595*(pi/180)"
   ]
  },
  {
   "cell_type": "code",
   "execution_count": 48,
   "metadata": {},
   "outputs": [
    {
     "data": {
      "text/plain": [
       "2e-05"
      ]
     },
     "execution_count": 48,
     "metadata": {},
     "output_type": "execute_result"
    }
   ],
   "source": [
    "20e-6"
   ]
  },
  {
   "cell_type": "code",
   "execution_count": null,
   "metadata": {},
   "outputs": [],
   "source": []
  }
 ],
 "metadata": {
  "kernelspec": {
   "display_name": "Python 3",
   "language": "python",
   "name": "python3"
  },
  "language_info": {
   "codemirror_mode": {
    "name": "ipython",
    "version": 3
   },
   "file_extension": ".py",
   "mimetype": "text/x-python",
   "name": "python",
   "nbconvert_exporter": "python",
   "pygments_lexer": "ipython3",
   "version": "3.7.3"
  }
 },
 "nbformat": 4,
 "nbformat_minor": 2
}
