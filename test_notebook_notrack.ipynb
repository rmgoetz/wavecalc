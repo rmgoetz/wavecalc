{
 "cells": [
  {
   "cell_type": "code",
   "execution_count": 12,
   "metadata": {},
   "outputs": [],
   "source": [
    "import numpy as np\n",
    "import wavecalc as wc\n",
    "import matplotlib.pyplot as pl\n",
    "import copy\n",
    "from math import pi"
   ]
  },
  {
   "cell_type": "code",
   "execution_count": 14,
   "metadata": {},
   "outputs": [],
   "source": [
    "wav = wc.wave()\n",
    "surf = wc.surface()\n",
    "med = wc.medium(epx=1.4**2,epy=1.9**2,epz=2.4**2)\n",
    "med.rotate(45,'x') ; med.rotate(45,'y'); med.rotate(45,'z')\n",
    "surf = med + surf\n",
    "wav = wav + med\n",
    "thetas = np.linspace(0,60,61)\n",
    "Ang_a = []; Ang_b = []\n",
    "for t in thetas:\n",
    "    wav.rotate(t,'x')\n",
    "    wav.fixmode()\n",
    "    out = wav@surf\n",
    "    out_a = out[0]; out_b = out[1]\n",
    "    k_a = out_a.kvec; k_b = out_b.kvec\n",
    "    ang_a = (180/pi)*np.arctan(k_a[1,0]/k_a[2,0])\n",
    "    ang_b = (180/pi)*np.arctan(k_b[1,0]/k_b[2,0])\n",
    "    Ang_a.append(ang_a); Ang_b.append(ang_b)\n",
    "    wav.rotate(-t,'x')\n",
    "Ang_a = np.asarray(Ang_a); Ang_b = np.asarray(Ang_b)"
   ]
  },
  {
   "cell_type": "code",
   "execution_count": 15,
   "metadata": {},
   "outputs": [
    {
     "data": {
      "image/png": "[encoded data removed]",
      "text/plain": [
       "<Figure size 432x288 with 1 Axes>"
      ]
     },
     "metadata": {
      "needs_background": "light"
     },
     "output_type": "display_data"
    }
   ],
   "source": [
    "pl.plot(thetas,Ang_a,label='alpha-wave')\n",
    "pl.plot(thetas,Ang_b,label='beta-wave')\n",
    "pl.plot(thetas,thetas,'k--')\n",
    "\n",
    "pl.legend(fontsize=12)\n",
    "pl.show()"
   ]
  },
  {
   "cell_type": "code",
   "execution_count": null,
   "metadata": {},
   "outputs": [],
   "source": []
  },
  {
   "cell_type": "code",
   "execution_count": null,
   "metadata": {},
   "outputs": [],
   "source": []
  },
  {
   "cell_type": "code",
   "execution_count": 2,
   "metadata": {},
   "outputs": [],
   "source": [
    "wav = wc.wave()\n",
    "surf = wc.surface()"
   ]
  },
  {
   "cell_type": "code",
   "execution_count": 3,
   "metadata": {},
   "outputs": [
    {
     "name": "stderr",
     "output_type": "stream",
     "text": [
      "C:\\Users\\Ryan\\Anaconda3\\lib\\site-packages\\numpy\\core\\_asarray.py:85: ComplexWarning: Casting complex values to real discards the imaginary part\n",
      "  return array(a, dtype, copy=False, order=order)\n"
     ]
    }
   ],
   "source": [
    "out = wc.crash(wav,surf)"
   ]
  },
  {
   "cell_type": "code",
   "execution_count": 4,
   "metadata": {},
   "outputs": [
    {
     "data": {
      "text/plain": [
       "array([[ 0.+0.0000000e+00j],\n",
       "       [ 0.+0.0000000e+00j],\n",
       "       [-1.-1.3760081e-08j]])"
      ]
     },
     "execution_count": 4,
     "metadata": {},
     "output_type": "execute_result"
    }
   ],
   "source": [
    "out[0].kvec"
   ]
  },
  {
   "cell_type": "code",
   "execution_count": 5,
   "metadata": {},
   "outputs": [
    {
     "data": {
      "text/plain": [
       "array([[ 0.],\n",
       "       [ 0.],\n",
       "       [-1.]])"
      ]
     },
     "execution_count": 5,
     "metadata": {},
     "output_type": "execute_result"
    }
   ],
   "source": [
    "out[0].clean(1e-7)\n",
    "out[0].kvec"
   ]
  },
  {
   "cell_type": "code",
   "execution_count": 9,
   "metadata": {},
   "outputs": [],
   "source": [
    "med = wc.medium(ep_all = 2.25)\n",
    "pris = wc.comp.prism(medium=med,wedge=90,axis='y')"
   ]
  },
  {
   "cell_type": "code",
   "execution_count": 10,
   "metadata": {},
   "outputs": [
    {
     "data": {
      "text/plain": [
       "array([[0.70710678],\n",
       "       [0.        ],\n",
       "       [0.70710678]])"
      ]
     },
     "execution_count": 10,
     "metadata": {},
     "output_type": "execute_result"
    }
   ],
   "source": [
    "pris.norm1"
   ]
  },
  {
   "cell_type": "code",
   "execution_count": 11,
   "metadata": {},
   "outputs": [
    {
     "data": {
      "text/plain": [
       "array([[-0.70710678],\n",
       "       [ 0.        ],\n",
       "       [ 0.70710678]])"
      ]
     },
     "execution_count": 11,
     "metadata": {},
     "output_type": "execute_result"
    }
   ],
   "source": [
    "pris.norm2"
   ]
  },
  {
   "cell_type": "code",
   "execution_count": null,
   "metadata": {},
   "outputs": [],
   "source": []
  }
 ],
 "metadata": {
  "kernelspec": {
   "display_name": "Python 3",
   "language": "python",
   "name": "python3"
  },
  "language_info": {
   "codemirror_mode": {
    "name": "ipython",
    "version": 3
   },
   "file_extension": ".py",
   "mimetype": "text/x-python",
   "name": "python",
   "nbconvert_exporter": "python",
   "pygments_lexer": "ipython3",
   "version": "3.7.7"
  }
 },
 "nbformat": 4,
 "nbformat_minor": 4
}
